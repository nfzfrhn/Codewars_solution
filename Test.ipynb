{
 "cells": [
  {
   "cell_type": "code",
   "execution_count": 18,
   "metadata": {},
   "outputs": [
    {
     "name": "stdout",
     "output_type": "stream",
     "text": [
      "[2, 4]\n"
     ]
    }
   ],
   "source": [
    "n=16\n",
    "count = []\n",
    "for i in range(2,n):\n",
    "    for j in range(2,n):\n",
    "        if i**j==n and ((i or j) not in count):\n",
    "            count.extend([i,j])\n",
    "print(count)            "
   ]
  },
  {
   "cell_type": "code",
   "execution_count": 32,
   "metadata": {},
   "outputs": [
    {
     "name": "stdout",
     "output_type": "stream",
     "text": [
      "[2, 4, 4, 2]\n",
      "0\n"
     ]
    }
   ],
   "source": [
    "n=16\n",
    "count = []\n",
    "for i in range(2,n):\n",
    "    for j in range(2,n):\n",
    "        if i**j==n:\n",
    "            count.extend([i,j])\n",
    "print(count)  \n",
    "k = 36%6\n",
    "print(k)    "
   ]
  },
  {
   "cell_type": "code",
   "execution_count": 11,
   "metadata": {},
   "outputs": [
    {
     "name": "stdout",
     "output_type": "stream",
     "text": [
      "Hello\n",
      "2\n"
     ]
    }
   ],
   "source": [
    "import math\n",
    "count = []\n",
    "if not count:\n",
    "    print(\"Hello\")\n",
    "else:\n",
    "    print(\"Make\")\n",
    "    \n",
    "print(int(math.sqrt(5)))"
   ]
  },
  {
   "cell_type": "code",
   "execution_count": 9,
   "metadata": {},
   "outputs": [
    {
     "name": "stdout",
     "output_type": "stream",
     "text": [
      "[]\n"
     ]
    }
   ],
   "source": [
    "n=5\n",
    "j=1\n",
    "count = []\n",
    "for i in range(2,n):\n",
    "    if i**j==n:\n",
    "        count.extend([i,j])\n",
    "    j+=1\n",
    "print(count)  "
   ]
  },
  {
   "cell_type": "code",
   "execution_count": 55,
   "metadata": {},
   "outputs": [
    {
     "name": "stdout",
     "output_type": "stream",
     "text": [
      "None\n"
     ]
    }
   ],
   "source": [
    "n=243\n",
    "ans = []\n",
    "count = 0\n",
    "m=n\n",
    "for i in range(2,n):\n",
    "    if (n%i==0):\n",
    "        while(n>0):        \n",
    "            n/=i\n",
    "            count+=1\n",
    "    if count!=0 and i**count==n:\n",
    "        ans.extend([i,count])\n",
    "if not ans:\n",
    "    ans = None\n",
    "print(ans)"
   ]
  },
  {
   "cell_type": "code",
   "execution_count": 27,
   "metadata": {},
   "outputs": [
    {
     "ename": "SyntaxError",
     "evalue": "incomplete input (1110394994.py, line 5)",
     "output_type": "error",
     "traceback": [
      "\u001b[1;36m  Input \u001b[1;32mIn [27]\u001b[1;36m\u001b[0m\n\u001b[1;33m    while(n>0):\u001b[0m\n\u001b[1;37m               ^\u001b[0m\n\u001b[1;31mSyntaxError\u001b[0m\u001b[1;31m:\u001b[0m incomplete input\n"
     ]
    }
   ],
   "source": [
    "import math as m\n",
    "a = m.log(243,3)\n",
    "b = a"
   ]
  },
  {
   "cell_type": "code",
   "execution_count": 124,
   "metadata": {},
   "outputs": [
    {
     "name": "stdout",
     "output_type": "stream",
     "text": [
      "21.800359622084702\n",
      "No\n",
      "Yes!\n",
      "Yes!\n",
      "No\n",
      "No\n"
     ]
    }
   ],
   "source": [
    "import math as m\n",
    "a = m.log(3652264,2)\n",
    "print(a)\n",
    "if a.is_integer():\n",
    "    print(\"Yes!\")\n",
    "else:\n",
    "    print(\"No\")\n",
    "if m.isclose(a,int(a),rel_tol=1,abs_tol=1):\n",
    "    print(\"Yes!\")\n",
    "else:\n",
    "    print(\"No\")    \n",
    "if m.isclose(a,int(a),rel_tol=1e-1,abs_tol=1):\n",
    "    print(\"Yes!\")\n",
    "else:\n",
    "    print(\"No\")  \n",
    "# Almost perfect version as it cover all 32 cases    \n",
    "if m.isclose(a,int(a),rel_tol=1e-9,abs_tol=0.01):\n",
    "    print(\"Yes!\")\n",
    "else:\n",
    "    print(\"No\")     \n",
    "if m.isclose(a,int(a)):\n",
    "    print(\"Yes!\")\n",
    "else:\n",
    "    print(\"No\")  \n"
   ]
  },
  {
   "cell_type": "code",
   "execution_count": null,
   "metadata": {},
   "outputs": [],
   "source": [
    "import math as m\n",
    "n=14172488\n",
    "ans = []\n",
    "for i in range(2,n):\n",
    "    a = m.log(n,i)\n",
    "    if m.isclose(a,int(a)):\n",
    "        ans.extend([i,int(a)])\n",
    "        #break\n",
    "if not ans:\n",
    "    ans = None\n",
    "print(ans)"
   ]
  },
  {
   "cell_type": "code",
   "execution_count": 120,
   "metadata": {},
   "outputs": [
    {
     "name": "stdout",
     "output_type": "stream",
     "text": [
      "4.999999999999999\n",
      "5\n",
      "True\n",
      "8.881784197001252e-16\n",
      "0.1\n"
     ]
    }
   ],
   "source": [
    "import math as m\n",
    "a = m.log(243,3)\n",
    "b = round(a)\n",
    "print(a)\n",
    "print(b)\n",
    "rel_tol = 1e-9\n",
    "abs_tol = 0.1\n",
    "print(abs(a-b) <= max(rel_tol * max(abs(a), abs(b)), abs_tol))\n",
    "lhs = abs(a-b)\n",
    "rhs = max(rel_tol * max(abs(a), abs(b)), abs_tol)\n",
    "print(lhs)\n",
    "print(rhs)"
   ]
  },
  {
   "cell_type": "code",
   "execution_count": 140,
   "metadata": {},
   "outputs": [
    {
     "name": "stdout",
     "output_type": "stream",
     "text": [
      "rock\n"
     ]
    }
   ],
   "source": [
    "rps = {1:\"rock\",2:\"paper\",3:\"scissors\"}\n",
    "print(rps[1])"
   ]
  },
  {
   "cell_type": "code",
   "execution_count": 129,
   "metadata": {},
   "outputs": [
    {
     "name": "stdout",
     "output_type": "stream",
     "text": [
      "[1, 2, 3, 4, 5, 6, 7, 8, 9, 10, 1, 2, 3, 4, 5, 6, 7, 8, 9, 10]\n"
     ]
    }
   ],
   "source": [
    "a = [1,2,3,4,5,6,7,8,9,10,1,2,3,4,5]\n",
    "b = []\n",
    "c = set(a)\n",
    "b.extend(c)\n",
    "print(b*2)"
   ]
  },
  {
   "cell_type": "code",
   "execution_count": 154,
   "metadata": {},
   "outputs": [
    {
     "name": "stdout",
     "output_type": "stream",
     "text": [
      "[9, 8, 7, 6, 5, 4, 3, 2, 1]\n",
      "987654321\n"
     ]
    }
   ],
   "source": [
    "a = 987654321 \n",
    "b = [int(i) for i in str(a)]\n",
    "b.sort(reverse=True)\n",
    "print(b)\n",
    "atr=\"\"\n",
    "for j in b:\n",
    "    atr+=str(j)\n",
    "print(atr)"
   ]
  },
  {
   "cell_type": "code",
   "execution_count": 157,
   "metadata": {},
   "outputs": [
    {
     "name": "stdout",
     "output_type": "stream",
     "text": [
      "[1, 2, 3, 3, 5]\n"
     ]
    }
   ],
   "source": [
    "a = 35231 \n",
    "b = [int(i) for i in str(a)]\n",
    "b.sort()\n",
    "print(b)"
   ]
  },
  {
   "cell_type": "code",
   "execution_count": 159,
   "metadata": {},
   "outputs": [
    {
     "name": "stdout",
     "output_type": "stream",
     "text": [
      "lkjhgfdsa\n"
     ]
    }
   ],
   "source": [
    "a = \"asdfghjkl\"\n",
    "b = a[::-1]\n",
    "print(b)"
   ]
  },
  {
   "cell_type": "code",
   "execution_count": 164,
   "metadata": {},
   "outputs": [
    {
     "name": "stdout",
     "output_type": "stream",
     "text": [
      "[1, 3, 2, 5, 3]\n"
     ]
    }
   ],
   "source": [
    "a = 35231 \n",
    "b = [1,3,2,5,3] #A Answer\n",
    "#c = map([int(i) for i in str(a)[::-1]], a)\n",
    "c = map(int,str(a)[::-1])\n",
    "print(list(c))"
   ]
  },
  {
   "cell_type": "code",
   "execution_count": 165,
   "metadata": {},
   "outputs": [
    {
     "name": "stdout",
     "output_type": "stream",
     "text": [
      "loquen\n"
     ]
    }
   ],
   "source": [
    "a = \"eloquent\"\n",
    "print(a[1:-1])"
   ]
  },
  {
   "cell_type": "code",
   "execution_count": 175,
   "metadata": {},
   "outputs": [
    {
     "name": "stdout",
     "output_type": "stream",
     "text": [
      "1\n",
      "3\n",
      "9\n",
      "9\n"
     ]
    }
   ],
   "source": [
    "n=3\n",
    "sum = 0\n",
    "sumsum = 0\n",
    "for i in range(1,n+1):\n",
    "    sum += m.factorial(i)\n",
    "    #sumsum += m.factorial(sum)\n",
    "    print(sum)\n",
    "print(sum)"
   ]
  },
  {
   "cell_type": "code",
   "execution_count": 1,
   "metadata": {},
   "outputs": [
    {
     "name": "stdout",
     "output_type": "stream",
     "text": [
      "10\n"
     ]
    }
   ],
   "source": [
    "a = [i for i in range(1,5)]\n",
    "b = sum(a)\n",
    "print(b)"
   ]
  }
 ],
 "metadata": {
  "kernelspec": {
   "display_name": "Python 3",
   "language": "python",
   "name": "python3"
  },
  "language_info": {
   "codemirror_mode": {
    "name": "ipython",
    "version": 3
   },
   "file_extension": ".py",
   "mimetype": "text/x-python",
   "name": "python",
   "nbconvert_exporter": "python",
   "pygments_lexer": "ipython3",
   "version": "3.10.5"
  },
  "orig_nbformat": 4
 },
 "nbformat": 4,
 "nbformat_minor": 2
}
