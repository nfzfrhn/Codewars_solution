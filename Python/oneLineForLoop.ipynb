{
 "cells": [
  {
   "cell_type": "code",
   "execution_count": null,
   "metadata": {},
   "outputs": [],
   "source": [
    "# Simple for loop\n",
    "for i in range(5):\n",
    "    print(i)\n",
    "\n",
    "# For loop in one line\n",
    "for i in range(5): print(i)\n"
   ]
  },
  {
   "cell_type": "code",
   "execution_count": null,
   "metadata": {},
   "outputs": [],
   "source": [
    "# List comprehension\n",
    "# my_list = [<expression> <for loop> <condition if any>]\n",
    "my_list = [i for i in range(5)]\n",
    "\n",
    "# one line for loop with if condition\n",
    "for i in range(10):\n",
    "    if i%2 == 0:\n",
    "        print(\"Even\")\n",
    "    else:\n",
    "        print(\"Odd\")\n",
    "\n",
    "# Equivalent one line for loop with if condition\n",
    "for i in range(10): print(\"Even\") if i%2 == 0 else print(\"Odd\")"
   ]
  },
  {
   "cell_type": "code",
   "execution_count": null,
   "metadata": {},
   "outputs": [],
   "source": [
    "# Nested for loop in one line\n",
    "for i in range(5):\n",
    "    for j in range(5):\n",
    "        print(i,j)\n",
    "\n",
    "[[print(i,j) for j in range(5)] for i in range(5)]"
   ]
  }
 ],
 "metadata": {
  "language_info": {
   "name": "python"
  },
  "orig_nbformat": 4
 },
 "nbformat": 4,
 "nbformat_minor": 2
}
